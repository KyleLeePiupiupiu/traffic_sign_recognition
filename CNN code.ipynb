{
 "cells": [
  {
   "cell_type": "code",
   "execution_count": 1,
   "metadata": {},
   "outputs": [],
   "source": [
    "import numpy as np\n",
    "import pandas as pd\n",
    "import matplotlib.pyplot as plt\n",
    "import tensorflow as tf\n",
    "from PIL import Image\n",
    "import os\n",
    "from sklearn.model_selection import train_test_split\n",
    "from tensorflow.keras.utils import to_categorical\n",
    "from keras.models import Sequential\n",
    "from keras.layers import Conv2D, MaxPool2D, Dense, Flatten, Dropout\n",
    "from sklearn.metrics import accuracy_score"
   ]
  },
  {
   "cell_type": "markdown",
   "metadata": {},
   "source": [
    "# Loading the data"
   ]
  },
  {
   "cell_type": "code",
   "execution_count": 2,
   "metadata": {},
   "outputs": [],
   "source": [
    "data = []\n",
    "labels = []\n",
    "classes = 43\n",
    "currentPath = os.getcwd()\n",
    "\n",
    "for i in range(classes):\n",
    "    path = os.path.join(currentPath, 'Train', str(i)) # folder Train\n",
    "    imagesFileNameList = os.listdir(path)\n",
    "\n",
    "    for a in imagesFileNameList:\n",
    "        try:\n",
    "            image = Image.open(path + '\\\\' + a)\n",
    "            image = image.resize((30,30))\n",
    "            image = np.array(image)\n",
    "\n",
    "            data.append(image)\n",
    "            labels.append(i) \n",
    "        except:\n",
    "            print('error loading image')\n",
    "\n",
    "data = np.array(data)\n",
    "labels = np.array(labels)"
   ]
  },
  {
   "cell_type": "code",
   "execution_count": 3,
   "metadata": {},
   "outputs": [
    {
     "data": {
      "text/plain": [
       "(39209, 30, 30, 3)"
      ]
     },
     "execution_count": 3,
     "metadata": {},
     "output_type": "execute_result"
    }
   ],
   "source": [
    "data.shape\n",
    "# 39209 image\n",
    "# size 30*30\n",
    "# 3 means RGB"
   ]
  },
  {
   "cell_type": "code",
   "execution_count": 4,
   "metadata": {},
   "outputs": [
    {
     "data": {
      "text/plain": [
       "(39209,)"
      ]
     },
     "execution_count": 4,
     "metadata": {},
     "output_type": "execute_result"
    }
   ],
   "source": [
    "labels.shape"
   ]
  },
  {
   "cell_type": "markdown",
   "metadata": {},
   "source": [
    "# Spilt data"
   ]
  },
  {
   "cell_type": "code",
   "execution_count": 5,
   "metadata": {},
   "outputs": [
    {
     "name": "stdout",
     "output_type": "stream",
     "text": [
      "(31367, 30, 30, 3) (7842, 30, 30, 3) (31367,) (7842,)\n",
      "[0. 0. 0. 0. 0. 1. 0. 0. 0. 0. 0. 0. 0. 0. 0. 0. 0. 0. 0. 0. 0. 0. 0. 0.\n",
      " 0. 0. 0. 0. 0. 0. 0. 0. 0. 0. 0. 0. 0. 0. 0. 0. 0. 0. 0.]\n"
     ]
    }
   ],
   "source": [
    "xTrain, xTest, yTrain, yTest = train_test_split(data, labels, test_size=0.2, random_state=0)\n",
    "print(xTrain.shape, xTest.shape, yTrain.shape, yTest.shape)\n",
    "\n",
    "# processing label data\n",
    "yTrain = to_categorical(yTrain, 43)\n",
    "yTest = to_categorical(yTest, 43)\n",
    "print(yTrain[0])"
   ]
  },
  {
   "cell_type": "markdown",
   "metadata": {},
   "source": [
    "# Build a CNN Model"
   ]
  },
  {
   "cell_type": "code",
   "execution_count": 6,
   "metadata": {},
   "outputs": [],
   "source": [
    "model = Sequential()\n",
    "\n",
    "# Convolution\n",
    "model.add(Conv2D(filters=32, kernel_size=(5,5), activation='relu', input_shape = xTrain.shape[1:]))\n",
    "model.add(Conv2D(filters=32, kernel_size=(5,5), activation='relu'))\n",
    "model.add(MaxPool2D(pool_size=(2,2)))\n",
    "model.add(Conv2D(filters=64, kernel_size=(3,3), activation='relu'))\n",
    "model.add(MaxPool2D(pool_size=(2,2)))\n",
    "model.add(Conv2D(filters=64, kernel_size=(3,3), activation='relu'))\n",
    "model.add(MaxPool2D(pool_size=(2,2)))\n",
    "\n",
    "\n",
    "model.add(Flatten())\n",
    "# Fully connected NN\n",
    "model.add(Dense(256, activation='relu'))\n",
    "model.add(Dense(43, activation='softmax'))\n",
    "\n",
    "# Compile\n",
    "model.compile(loss='categorical_crossentropy', optimizer='adam', metrics=['accuracy'])\n"
   ]
  },
  {
   "cell_type": "markdown",
   "metadata": {},
   "source": [
    "# Train and validate"
   ]
  },
  {
   "cell_type": "code",
   "execution_count": 7,
   "metadata": {},
   "outputs": [
    {
     "name": "stdout",
     "output_type": "stream",
     "text": [
      "Epoch 1/15\n",
      "491/491 [==============================] - 23s 7ms/step - loss: 2.4003 - accuracy: 0.4658 - val_loss: 0.3473 - val_accuracy: 0.9165\n",
      "Epoch 2/15\n",
      "491/491 [==============================] - 3s 6ms/step - loss: 0.2247 - accuracy: 0.9419 - val_loss: 0.1588 - val_accuracy: 0.9605\n",
      "Epoch 3/15\n",
      "491/491 [==============================] - 3s 5ms/step - loss: 0.1097 - accuracy: 0.9724 - val_loss: 0.1531 - val_accuracy: 0.9649\n",
      "Epoch 4/15\n",
      "491/491 [==============================] - 3s 5ms/step - loss: 0.1010 - accuracy: 0.9756 - val_loss: 0.1216 - val_accuracy: 0.9717\n",
      "Epoch 5/15\n",
      "491/491 [==============================] - 3s 6ms/step - loss: 0.0740 - accuracy: 0.9821 - val_loss: 0.1823 - val_accuracy: 0.9560\n",
      "Epoch 6/15\n",
      "491/491 [==============================] - 3s 6ms/step - loss: 0.0945 - accuracy: 0.9767 - val_loss: 0.0918 - val_accuracy: 0.9805\n",
      "Epoch 7/15\n",
      "491/491 [==============================] - 3s 6ms/step - loss: 0.0569 - accuracy: 0.9870 - val_loss: 0.1988 - val_accuracy: 0.9652\n",
      "Epoch 8/15\n",
      "491/491 [==============================] - 3s 5ms/step - loss: 0.0742 - accuracy: 0.9824 - val_loss: 0.0583 - val_accuracy: 0.9890\n",
      "Epoch 9/15\n",
      "491/491 [==============================] - 3s 5ms/step - loss: 0.0380 - accuracy: 0.9908 - val_loss: 0.0649 - val_accuracy: 0.9888\n",
      "Epoch 10/15\n",
      "491/491 [==============================] - 3s 5ms/step - loss: 0.0573 - accuracy: 0.9869 - val_loss: 0.1321 - val_accuracy: 0.9755\n",
      "Epoch 11/15\n",
      "491/491 [==============================] - 3s 5ms/step - loss: 0.0359 - accuracy: 0.9906 - val_loss: 0.1036 - val_accuracy: 0.9764\n",
      "Epoch 12/15\n",
      "491/491 [==============================] - 3s 6ms/step - loss: 0.0590 - accuracy: 0.9858 - val_loss: 0.1252 - val_accuracy: 0.9763\n",
      "Epoch 13/15\n",
      "491/491 [==============================] - 3s 5ms/step - loss: 0.0557 - accuracy: 0.9877 - val_loss: 0.2731 - val_accuracy: 0.9583\n",
      "Epoch 14/15\n",
      "491/491 [==============================] - 3s 5ms/step - loss: 0.0607 - accuracy: 0.9877 - val_loss: 0.1632 - val_accuracy: 0.9748\n",
      "Epoch 15/15\n",
      "491/491 [==============================] - 3s 5ms/step - loss: 0.0473 - accuracy: 0.9900 - val_loss: 0.1308 - val_accuracy: 0.9821\n"
     ]
    }
   ],
   "source": [
    "epoch = 15\n",
    "history = model.fit(xTrain, yTrain, batch_size = 64, epochs=epoch, validation_data=(xTest, yTest))"
   ]
  },
  {
   "cell_type": "markdown",
   "metadata": {},
   "source": [
    "# plot "
   ]
  },
  {
   "cell_type": "code",
   "execution_count": 8,
   "metadata": {},
   "outputs": [
    {
     "data": {
      "text/plain": [
       "<matplotlib.legend.Legend at 0x26b9a8f0700>"
      ]
     },
     "execution_count": 8,
     "metadata": {},
     "output_type": "execute_result"
    },
    {
     "data": {
      "image/png": "[encoded data removed]",
      "text/plain": [
       "<Figure size 432x288 with 1 Axes>"
      ]
     },
     "metadata": {
      "needs_background": "light"
     },
     "output_type": "display_data"
    }
   ],
   "source": [
    "plt.figure(1)\n",
    "plt.plot(history.history['accuracy'], label = 'training accuracy')\n",
    "plt.plot(history.history['val_accuracy'], label = 'val accuracy')\n",
    "plt.title('Accuracy')\n",
    "plt.xlabel('epochs')\n",
    "plt.ylabel('accuracy')\n",
    "plt.legend()\n",
    "\n"
   ]
  },
  {
   "cell_type": "code",
   "execution_count": 9,
   "metadata": {},
   "outputs": [
    {
     "data": {
      "text/plain": [
       "<matplotlib.legend.Legend at 0x26bd06426a0>"
      ]
     },
     "execution_count": 9,
     "metadata": {},
     "output_type": "execute_result"
    },
    {
     "data": {
      "image/png": "[encoded data removed]",
      "text/plain": [
       "<Figure size 432x288 with 1 Axes>"
      ]
     },
     "metadata": {
      "needs_background": "light"
     },
     "output_type": "display_data"
    }
   ],
   "source": [
    "plt.figure(1)\n",
    "plt.plot(history.history['loss'], label='training loss')\n",
    "plt.plot(history.history['val_loss'], label='val accuracy')\n",
    "plt.title('Loss')\n",
    "plt.xlabel('epochs')\n",
    "plt.ylabel('loss')\n",
    "plt.legend()"
   ]
  },
  {
   "cell_type": "markdown",
   "metadata": {},
   "source": [
    "# Test our model with test dataset"
   ]
  },
  {
   "cell_type": "code",
   "execution_count": 10,
   "metadata": {},
   "outputs": [],
   "source": [
    "df = pd.read_csv('Test.csv')\n",
    "\n",
    "yTest = df.ClassId.values\n",
    "imgAddress = df.Path.values\n",
    "\n",
    "data = []\n",
    "\n",
    "for im in imgAddress:\n",
    "    image = Image.open(im)\n",
    "    image = image.resize((30,30))\n",
    "    data.append(np.array(image))\n",
    "\n",
    "xTest = np.array(data)\n"
   ]
  },
  {
   "cell_type": "code",
   "execution_count": 11,
   "metadata": {},
   "outputs": [
    {
     "data": {
      "text/plain": [
       "(12630, 30, 30, 3)"
      ]
     },
     "execution_count": 11,
     "metadata": {},
     "output_type": "execute_result"
    }
   ],
   "source": [
    "xTest.shape"
   ]
  },
  {
   "cell_type": "code",
   "execution_count": 11,
   "metadata": {},
   "outputs": [
    {
     "name": "stderr",
     "output_type": "stream",
     "text": [
      "C:\\Users\\Lee\\anaconda3\\envs\\tensorflow\\lib\\site-packages\\keras\\engine\\sequential.py:450: UserWarning: `model.predict_classes()` is deprecated and will be removed after 2021-01-01. Please use instead:* `np.argmax(model.predict(x), axis=-1)`,   if your model does multi-class classification   (e.g. if it uses a `softmax` last-layer activation).* `(model.predict(x) > 0.5).astype(\"int32\")`,   if your model does binary classification   (e.g. if it uses a `sigmoid` last-layer activation).\n",
      "  warnings.warn('`model.predict_classes()` is deprecated and '\n"
     ]
    },
    {
     "data": {
      "text/plain": [
       "0.946159936658749"
      ]
     },
     "execution_count": 11,
     "metadata": {},
     "output_type": "execute_result"
    }
   ],
   "source": [
    "yPred = model.predict_classes(xTest)\n",
    "\n",
    "# Accuracy\n",
    "accuracy_score(yTest, yPred)\n"
   ]
  },
  {
   "cell_type": "markdown",
   "metadata": {},
   "source": [
    "# Save model"
   ]
  },
  {
   "cell_type": "code",
   "execution_count": 12,
   "metadata": {},
   "outputs": [],
   "source": [
    "model.save('model.h5')"
   ]
  }
 ],
 "metadata": {
  "interpreter": {
   "hash": "934e9733469ba33743180f4f0a45fb5fa97889cb236cef54782b3750effb92db"
  },
  "kernelspec": {
   "display_name": "Python 3.8.8 64-bit ('base': conda)",
   "name": "python3"
  },
  "language_info": {
   "codemirror_mode": {
    "name": "ipython",
    "version": 3
   },
   "file_extension": ".py",
   "mimetype": "text/x-python",
   "name": "python",
   "nbconvert_exporter": "python",
   "pygments_lexer": "ipython3",
   "version": "3.9.4"
  },
  "orig_nbformat": 4
 },
 "nbformat": 4,
 "nbformat_minor": 2
}
